{
 "cells": [
  {
   "cell_type": "code",
   "execution_count": 27,
   "metadata": {},
   "outputs": [],
   "source": [
    "import cv2\n",
    "import json\n",
    "import numpy as np\n",
    "import os\n",
    "import matplotlib.pyplot as plt"
   ]
  },
  {
   "cell_type": "code",
   "execution_count": 35,
   "metadata": {},
   "outputs": [],
   "source": [
    "images=[]\n",
    "masks=[]"
   ]
  },
  {
   "cell_type": "code",
   "execution_count": 29,
   "metadata": {},
   "outputs": [],
   "source": [
    "def get_images(path_img, path_json):\n",
    "    for dirname, _, filenames in os.walk(path_img):\n",
    "        for filename in filenames:\n",
    "            image = cv2.imread(os.path.join(dirname, filename))\n",
    "            if image is None:\n",
    "                print(\"error: \", os.path.join(dirname, filename))\n",
    "                continue\n",
    "            image = cv2.cvtColor(image, cv2.COLOR_BGR2RGB)\n",
    "            # res = cv2.resize(image, (224,224), interpolation = cv2.INTER_AREA)\n",
    "            images.append(image)\n",
    "        \n",
    "            for dirname1, _, filenames1 in os.walk(path_json):\n",
    "        \n",
    "                for filename1 in filenames1:\n",
    "                    if(filename1==filename.replace('leftImg8bit.png','gtFine_polygons.json')):\n",
    "                        f = open(os.path.join(dirname1, filename1), 'r')\n",
    "                        polygons = json.load(f)\n",
    "                        f.close()\n",
    "                        masks.append(polygons)"
   ]
  },
  {
   "cell_type": "code",
   "execution_count": 30,
   "metadata": {},
   "outputs": [],
   "source": [
    "# function not used in the trainer but usefull to visualize the dataset\n",
    "def mask_maker(objects, image):\n",
    "    for i in range(len(objects)):\n",
    "        if objects[i]['label']=='person':\n",
    "            cv2.fillPoly(image, np.array([objects[i]['polygon']]), (0,0,255))\n",
    "        elif objects[i]['label']=='car':\n",
    "            cv2.fillPoly(image, np.array([objects[i]['polygon']]), (0,255,0))\n",
    "        else:\n",
    "            cv2.fillPoly(image, np.array([objects[i]['polygon']]), (255,0,0))"
   ]
  },
  {
   "cell_type": "code",
   "execution_count": 31,
   "metadata": {},
   "outputs": [],
   "source": [
    "# function not used in the trainer but usefull to visualize the dataset\n",
    "def boxes_drawer(objects, image):\n",
    "\n",
    "    for i in range(len(objects)):\n",
    "        rect=cv2.boundingRect(np.array([objects[i]['polygon']]))\n",
    "        if objects[i]['label']=='person':\n",
    "            cv2.rectangle(image, (rect[0],rect[1]), (rect[0]+rect[2],rect[1]+rect[3]), (0,0,255), 2)\n",
    "        elif objects[i]['label']=='car':\n",
    "            cv2.rectangle(image, (rect[0],rect[1]), (rect[0]+rect[2],rect[1]+rect[3]), (0,255,0), 2)\n",
    "            "
   ]
  },
  {
   "cell_type": "code",
   "execution_count": 32,
   "metadata": {},
   "outputs": [],
   "source": [
    "def object_list_maker(objects, image):\n",
    "    cars=[]\n",
    "    pedestrians=[]\n",
    "    others=[]\n",
    "    others_labels=[]\n",
    "\n",
    "    vehicules_labels=['car','motorbike','bus','truck','cargroup','motocycle']\n",
    "    human_labels=['person','rider']\n",
    "    others_to_avoid_labels=['ground','out of roi','road','sidewalk']\n",
    "\n",
    "    for i in range(len(objects)):\n",
    "        rect=cv2.boundingRect(np.array([objects[i]['polygon']]))\n",
    "        if rect[2]>=96 and rect[3]>=96:\n",
    "            if objects[i]['label'] in vehicules_labels:\n",
    "                cars.append(image[rect[1]:rect[1]+rect[3], rect[0]:rect[0]+rect[2]])\n",
    "            elif objects[i]['label'] in human_labels:\n",
    "                pedestrians.append(image[rect[1]:rect[1]+rect[3], rect[0]:rect[0]+rect[2]])\n",
    "            elif objects[i]['label'] not in others_to_avoid_labels:\n",
    "                others.append(image[rect[1]:rect[1]+rect[3], rect[0]:rect[0]+rect[2]])\n",
    "                others_labels.append(objects[i]['label'])\n",
    "    \n",
    "    return cars, pedestrians, others, others_labels"
   ]
  },
  {
   "cell_type": "code",
   "execution_count": 33,
   "metadata": {},
   "outputs": [],
   "source": [
    "def dataset_maker():\n",
    "    global images\n",
    "    global masks\n",
    "    cars=[]\n",
    "    pedestrians=[]\n",
    "    others=[]\n",
    "    others_labels=[]\n",
    "    for i in range(len(images)):\n",
    "        temp_cars, temp_pedestrians, temp_others, temp_others_labels =object_list_maker(masks[i]['objects'],images[i])\n",
    "        cars.append(temp_cars)\n",
    "        pedestrians.append(temp_pedestrians)\n",
    "        others.append(temp_others)\n",
    "        others_labels.append(temp_others_labels)\n",
    "    del images\n",
    "    del masks\n",
    "    cars = list2d_to_1d(cars)\n",
    "    pedestrians = list2d_to_1d(pedestrians)\n",
    "    others = list2d_to_1d(others)\n",
    "    others_labels = list2d_to_1d(others_labels)\n",
    "    # list to numpy array\n",
    "    cars_array=np.array(cars, dtype=object)\n",
    "    pedestrians_array=np.array(pedestrians, dtype=object)\n",
    "    others_array=np.array(others, dtype=object)\n",
    "    others_labels_array=np.array(others_labels, dtype=object)\n",
    "    return cars_array, pedestrians_array, others_array, others_labels_array"
   ]
  },
  {
   "cell_type": "code",
   "execution_count": 34,
   "metadata": {},
   "outputs": [],
   "source": [
    "#2d list to 1d list\n",
    "def list2d_to_1d(list):\n",
    "    new_list=[]\n",
    "    for i in range(len(list)):\n",
    "        for j in range(len(list[i])):\n",
    "            new_list.append(list[i][j])\n",
    "    return new_list"
   ]
  },
  {
   "cell_type": "code",
   "execution_count": null,
   "metadata": {},
   "outputs": [],
   "source": [
    "def resize_images(array, new_dim):\n",
    "    resized_array = []\n",
    "    for i in range(array.shape[0]):\n",
    "        try:\n",
    "            img = cv2.resize(array[i], new_dim)\n",
    "        except:\n",
    "            print('error ', i)\n",
    "        else:\n",
    "            resized_array.append(img)\n",
    "    return np.array(resized_array)"
   ]
  }
 ],
 "metadata": {
  "interpreter": {
   "hash": "63fd5069d213b44bf678585dea6b12cceca9941eaf7f819626cde1f2670de90d"
  },
  "kernelspec": {
   "display_name": "Python 3.9.5 64-bit",
   "language": "python",
   "name": "python3"
  },
  "language_info": {
   "codemirror_mode": {
    "name": "ipython",
    "version": 3
   },
   "file_extension": ".py",
   "mimetype": "text/x-python",
   "name": "python",
   "nbconvert_exporter": "python",
   "pygments_lexer": "ipython3",
   "version": "3.9.5"
  },
  "orig_nbformat": 4
 },
 "nbformat": 4,
 "nbformat_minor": 2
}
