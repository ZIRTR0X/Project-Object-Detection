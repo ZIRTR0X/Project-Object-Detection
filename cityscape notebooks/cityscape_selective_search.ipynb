{
 "cells": [
  {
   "cell_type": "code",
   "execution_count": 5,
   "metadata": {},
   "outputs": [],
   "source": [
    "import cv2"
   ]
  },
  {
   "cell_type": "code",
   "execution_count": 6,
   "metadata": {},
   "outputs": [],
   "source": [
    "def selective_search(path):\n",
    "    img = cv2.imread(path)\n",
    "    selective_search = cv2.ximgproc.segmentation.createSelectiveSearchSegmentation()\n",
    "    selective_search.setBaseImage(img)\n",
    "    selective_search.switchToSelectiveSearchFast()\n",
    "    rects = selective_search.process()\n",
    "    return rects"
   ]
  },
  {
   "cell_type": "code",
   "execution_count": 7,
   "metadata": {},
   "outputs": [],
   "source": [
    "def visualize_selective_search(path):\n",
    "    rects = selective_search(path)\n",
    "    img = cv2.imread(path)\n",
    "    print(\"Total Number of Region Proposals: {}\".format(len(rects)))\n",
    "    for rect in rects:\n",
    "        x, y, w, h = rect\n",
    "        cv2.rectangle(img, (x, y), (x + w, y + h), (0, 255, 0), 1)\n",
    "    print(\"drawing done\")\n",
    "    cv2.imshow(\"Selective Search\", img)\n",
    "    cv2.waitKey()"
   ]
  },
  {
   "cell_type": "code",
   "execution_count": 8,
   "metadata": {},
   "outputs": [
    {
     "name": "stdout",
     "output_type": "stream",
     "text": [
      "Total Number of Region Proposals: 8500\n",
      "drawing done\n"
     ]
    }
   ],
   "source": [
    "# visualize_selective_search(\"D:/cityscape/leftImg8bit/val/frankfurt/frankfurt_000000_000294_leftImg8bit.png\")"
   ]
  }
 ],
 "metadata": {
  "interpreter": {
   "hash": "63fd5069d213b44bf678585dea6b12cceca9941eaf7f819626cde1f2670de90d"
  },
  "kernelspec": {
   "display_name": "Python 3.9.5 64-bit",
   "language": "python",
   "name": "python3"
  },
  "language_info": {
   "codemirror_mode": {
    "name": "ipython",
    "version": 3
   },
   "file_extension": ".py",
   "mimetype": "text/x-python",
   "name": "python",
   "nbconvert_exporter": "python",
   "pygments_lexer": "ipython3",
   "version": "3.9.5"
  },
  "orig_nbformat": 4
 },
 "nbformat": 4,
 "nbformat_minor": 2
}
